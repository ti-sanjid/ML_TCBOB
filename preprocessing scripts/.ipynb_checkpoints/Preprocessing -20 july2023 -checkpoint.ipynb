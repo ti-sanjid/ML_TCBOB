{
 "cells": [
  {
   "cell_type": "code",
   "execution_count": 1,
   "id": "53a37f2d",
   "metadata": {},
   "outputs": [],
   "source": [
    "import xarray as xr\n",
    "import dask \n",
    "\n",
    "import warnings \n",
    "warnings.filterwarnings('ignore')\n",
    "\n",
    "import numpy as np\n",
    "import pandas as pd \n",
    "import matplotlib.pyplot as plt\n",
    "\n",
    "import cartopy.feature as cf\n",
    "import cartopy.crs as ccrs\n",
    "import cartopy.mpl.ticker as cticker\n",
    "\n",
    "from cartopy.util import add_cyclic_point \n",
    "from matplotlib import animation\n",
    "from tqdm import tqdm"
   ]
  },
  {
   "cell_type": "code",
   "execution_count": 2,
   "id": "b0aec58a",
   "metadata": {},
   "outputs": [],
   "source": [
    "# Time batch selection\n",
    "# batch = 11 complete\n",
    "batch = 12\n",
    "\n",
    "if batch==1:\n",
    "    start, end = 1978, 1983\n",
    "elif batch ==2:\n",
    "    start, end = 1984, 1989    \n",
    "elif batch ==3:\n",
    "    start, end = 1990, 1992\n",
    "elif batch==4:\n",
    "    start, end = 1993, 1996\n",
    "elif batch ==5:\n",
    "    start, end = 1997, 2002\n",
    "elif batch==6:\n",
    "    start, end = 2003, 2004\n",
    "elif batch ==7:\n",
    "    start, end = 2005, 2007\n",
    "elif batch==8:\n",
    "    start, end = 2008, 2010  \n",
    "    \n",
    "elif batch==9:\n",
    "    start, end = 2011, 2013  \n",
    "elif batch ==10:\n",
    "    start, end = 2014, 2016\n",
    "elif batch==11:\n",
    "    start, end = 2017, 2019  \n",
    "elif batch==12:\n",
    "    start, end = 2020, 2021 "
   ]
  },
  {
   "cell_type": "code",
   "execution_count": null,
   "id": "d21a8045",
   "metadata": {},
   "outputs": [],
   "source": []
  },
  {
   "cell_type": "markdown",
   "id": "fd8ded65",
   "metadata": {},
   "source": [
    "# IBTRACS"
   ]
  },
  {
   "cell_type": "code",
   "execution_count": 3,
   "id": "81ff3865",
   "metadata": {
    "scrolled": true
   },
   "outputs": [],
   "source": [
    "path='/mnt/1A42C1DD42C1BE2F/My projects/ML_TCBOB/Data/ibtracs.NI.list.v04r00.csv'\n",
    "ib_data = pd.read_csv(path)\n",
    "ib_data"
   ]
  },
  {
   "cell_type": "code",
   "execution_count": 4,
   "id": "ca99de26",
   "metadata": {
    "scrolled": true
   },
   "outputs": [],
   "source": [
    "# bb_data = ib_data[(ib_data['SUBBASIN'] == 'BB') & (ib_data['SEASON'] >= 1978) & (ib_data['NATURE'].isin(['TS', 'MX']))]\n",
    "bb_data = ib_data[(ib_data['SUBBASIN'] == 'BB') & (ib_data['NATURE'].isin(['TS'])) & (ib_data['SEASON'].isin(range(start, end+1)))] #Notice\n",
    "bb_data = bb_data.reset_index(drop=True)\n",
    "# bb_data['NUMBER'] = bb_data.groupby('NUMBER').ngroup() + 1\n",
    "bb_data['NUMBER'] = pd.factorize(bb_data['SID'])[0] + 1\n",
    "bb_data"
   ]
  },
  {
   "cell_type": "code",
   "execution_count": null,
   "id": "50ca8583",
   "metadata": {},
   "outputs": [],
   "source": []
  },
  {
   "cell_type": "code",
   "execution_count": 5,
   "id": "287d70f6",
   "metadata": {
    "scrolled": true
   },
   "outputs": [],
   "source": [
    "cyclone_data = bb_data[['NUMBER','ISO_TIME']]\n",
    "cyclone_data['ISO_TIME'] = pd.to_datetime(cyclone_data['ISO_TIME']) # without this the timestamp is in different type\n",
    "cyclone_data"
   ]
  },
  {
   "cell_type": "code",
   "execution_count": 6,
   "id": "a1d5afec",
   "metadata": {},
   "outputs": [],
   "source": [
    "cyclone_data.NUMBER.unique()"
   ]
  },
  {
   "cell_type": "code",
   "execution_count": null,
   "id": "6c8d2ba9",
   "metadata": {},
   "outputs": [],
   "source": []
  },
  {
   "cell_type": "code",
   "execution_count": null,
   "id": "2fc227e9",
   "metadata": {},
   "outputs": [],
   "source": []
  },
  {
   "cell_type": "markdown",
   "id": "10eb7f61",
   "metadata": {},
   "source": [
    "# Era5"
   ]
  },
  {
   "cell_type": "code",
   "execution_count": 7,
   "id": "dd4a6832",
   "metadata": {},
   "outputs": [],
   "source": [
    "# path = '//mnt/1A42C1DD42C1BE2F/My projects/ML_TCBOB/Data/ERA5/1979.nc'\n",
    "path = '/mnt/1A42C1DD42C1BE2F/My projects/ML_TCBOB/Data/ERA5/*.nc'\n",
    "era_data = xr.open_mfdataset(path).sel(latitude=slice(25, 0), longitude=slice(78,100))\n",
    "# era_data = era_data.sel(time=slice(str(start), str(end)))\n",
    "era_data"
   ]
  },
  {
   "cell_type": "code",
   "execution_count": 8,
   "id": "44359330",
   "metadata": {},
   "outputs": [],
   "source": [
    "first_batch = era_data.sel(time=slice('19790101','19891231'))\n",
    "second_batch = era_data.sel(time=slice('19900101','20001231'))\n",
    "third_batch = era_data.sel(time=slice('20010101','20101231'))\n",
    "fourth_batch = era_data.sel(time=slice('20110101','20201231'))\n",
    "fifth_batch = era_data.sel(time=slice('20200101','20211231'))\n",
    "\n",
    "\n",
    "# select = era_data.sel(time=slice('20010101', '20201231'))\n",
    "select = fifth_batch"
   ]
  },
  {
   "cell_type": "code",
   "execution_count": 9,
   "id": "395b13c3",
   "metadata": {},
   "outputs": [],
   "source": [
    "# first_batch = era_data.sel(time=slice('19790101','19891231'))\n",
    "# second_batch = era_data.sel(time=slice('19900101','20001231'))\n",
    "# third_batch = era_data.sel(time=slice('20010101','20101231'))\n",
    "# fourth_batch = era_data.sel(time=slice('20110101','20201231'))\n",
    "\n",
    "\n",
    "# # select = era_data.sel(time=slice('20010101', '20201231'))\n",
    "# select = first_batch"
   ]
  },
  {
   "cell_type": "code",
   "execution_count": 10,
   "id": "bb17e493",
   "metadata": {},
   "outputs": [],
   "source": [
    "era_data = select\n",
    "era_data"
   ]
  },
  {
   "cell_type": "code",
   "execution_count": 11,
   "id": "d3172765",
   "metadata": {},
   "outputs": [],
   "source": [
    "era_data = era_data.sel(level=150)"
   ]
  },
  {
   "cell_type": "code",
   "execution_count": 12,
   "id": "465eddce",
   "metadata": {},
   "outputs": [],
   "source": [
    "era_data"
   ]
  },
  {
   "cell_type": "code",
   "execution_count": 13,
   "id": "fd695d2f",
   "metadata": {},
   "outputs": [],
   "source": [
    "# Extract the desired variables\n",
    "variable1 = era_data['variable1'].values\n",
    "variable2 = dataset['variable2'].values\n",
    "# ... extract other variables as needed\n",
    "\n",
    "# Create a dictionary with the extracted variables\n",
    "data_dict = {\n",
    "    'Variable1': variable1.flatten(),\n",
    "    'Variable2': variable2.flatten(),\n",
    "    # ... add other variables to the dictionary\n",
    "}\n",
    "\n",
    "# Create a Pandas DataFrame from the dictionary\n",
    "df = pd.DataFrame(data_dict)"
   ]
  },
  {
   "cell_type": "code",
   "execution_count": null,
   "id": "1fdb9226",
   "metadata": {},
   "outputs": [],
   "source": [
    "time=era_data['time'].values\n",
    "lat_data=era_data['latitude'].values\n",
    "lon_data=era_data['longitude'].values\n",
    "rdata=era_data['r'].values"
   ]
  },
  {
   "cell_type": "code",
   "execution_count": null,
   "id": "0ce1def5",
   "metadata": {},
   "outputs": [],
   "source": [
    "print('time',time)"
   ]
  },
  {
   "cell_type": "code",
   "execution_count": null,
   "id": "9b9c4be2",
   "metadata": {},
   "outputs": [],
   "source": [
    "rdata.shape\n",
    "# time.shape\n",
    "# lat_data.shape\n",
    "# lon_data.shape"
   ]
  },
  {
   "cell_type": "code",
   "execution_count": null,
   "id": "3858a63e",
   "metadata": {},
   "outputs": [],
   "source": [
    "df['time'] = era_data['time'].values\n",
    "df['lat'] = era_data['latitude'].values\n",
    "df['time'] = era_data['longitude'].values"
   ]
  },
  {
   "cell_type": "code",
   "execution_count": null,
   "id": "efa52ec8",
   "metadata": {},
   "outputs": [],
   "source": [
    "# Reshape the observed data to a 2D array (time, lat*lon)\n",
    "rdata_2d = rdata.reshape(rdata.shape[0], -1)\n",
    "\n",
    "# Create a Pandas DataFrame from the 2D observed data array\n",
    "df = pd.DataFrame(rdata_2d, columns=['lat_lon_{}'.format(i) for i in range(rdata_2d.shape[1])])\n",
    "\n",
    "# Add the time values as a column\n",
    "df['time'] = era_data['time'].values\n",
    "df"
   ]
  },
  {
   "cell_type": "code",
   "execution_count": null,
   "id": "deba8276",
   "metadata": {},
   "outputs": [],
   "source": []
  },
  {
   "cell_type": "code",
   "execution_count": null,
   "id": "d8d779e1",
   "metadata": {},
   "outputs": [],
   "source": []
  },
  {
   "cell_type": "code",
   "execution_count": null,
   "id": "9b255c48",
   "metadata": {},
   "outputs": [],
   "source": []
  },
  {
   "cell_type": "code",
   "execution_count": null,
   "id": "9ebd06ed",
   "metadata": {},
   "outputs": [],
   "source": [
    "list={'time':time,'latitude':lat_data,'longitude':lon_data}\n",
    "data_table=pd.DataFrame(list)\n",
    "data_table.head()"
   ]
  },
  {
   "cell_type": "code",
   "execution_count": null,
   "id": "3a145b15",
   "metadata": {},
   "outputs": [],
   "source": []
  },
  {
   "cell_type": "code",
   "execution_count": null,
   "id": "af996d94",
   "metadata": {},
   "outputs": [],
   "source": []
  },
  {
   "cell_type": "code",
   "execution_count": null,
   "id": "23b2400d",
   "metadata": {},
   "outputs": [],
   "source": []
  },
  {
   "cell_type": "code",
   "execution_count": null,
   "id": "96ff8763",
   "metadata": {},
   "outputs": [],
   "source": []
  },
  {
   "cell_type": "code",
   "execution_count": null,
   "id": "2a4bf2d9",
   "metadata": {},
   "outputs": [],
   "source": []
  },
  {
   "cell_type": "code",
   "execution_count": null,
   "id": "b13f7851",
   "metadata": {},
   "outputs": [],
   "source": [
    "# selecting variable for lat lon and time \n",
    "lon = era_data['longitude'][:]\n",
    "lat = era_data['latitude'][:] \n",
    "time = era_data['time'][:]\n",
    "\n",
    "#converting lon lat in lon2d and lat2d\n",
    "lon2d, lat2d = np.meshgrid(lon, lat)"
   ]
  },
  {
   "cell_type": "code",
   "execution_count": null,
   "id": "0fd29f94",
   "metadata": {},
   "outputs": [],
   "source": []
  },
  {
   "cell_type": "code",
   "execution_count": null,
   "id": "e1e89251",
   "metadata": {},
   "outputs": [],
   "source": []
  },
  {
   "cell_type": "code",
   "execution_count": null,
   "id": "1edf09d8",
   "metadata": {},
   "outputs": [],
   "source": []
  },
  {
   "cell_type": "code",
   "execution_count": null,
   "id": "f71a5020",
   "metadata": {},
   "outputs": [],
   "source": []
  },
  {
   "cell_type": "code",
   "execution_count": null,
   "id": "bb63a1f2",
   "metadata": {},
   "outputs": [],
   "source": []
  },
  {
   "cell_type": "code",
   "execution_count": null,
   "id": "ce4f93f4",
   "metadata": {},
   "outputs": [],
   "source": []
  },
  {
   "cell_type": "code",
   "execution_count": null,
   "id": "65374f28",
   "metadata": {},
   "outputs": [],
   "source": [
    "u = era_data['u']\n",
    "v = era_data['v']\n",
    "\n",
    "wind=np.sqrt(u**2 + v**2)\n",
    "wind"
   ]
  },
  {
   "cell_type": "code",
   "execution_count": null,
   "id": "4b8d49ce",
   "metadata": {},
   "outputs": [],
   "source": [
    "nlon = len(wind.longitude)\n",
    "nlat = len(wind.latitude)\n",
    "nt = len(wind.time)"
   ]
  },
  {
   "cell_type": "code",
   "execution_count": null,
   "id": "08e4e7ed",
   "metadata": {},
   "outputs": [],
   "source": [
    "wind_data = np.reshape(wind.data,((nt, nlat*nlon))) \n",
    "wind_data = wind_data.compute()\n",
    "wind_data"
   ]
  },
  {
   "cell_type": "markdown",
   "id": "2f0e70b6",
   "metadata": {},
   "source": [
    "# Making dataFrame with cyclone information"
   ]
  },
  {
   "cell_type": "code",
   "execution_count": null,
   "id": "eb1d7ac6",
   "metadata": {},
   "outputs": [],
   "source": [
    "#calculating the maximum speed and the index of the cyclone \n",
    "cyclonic_wind_speed = []\n",
    "index = []\n",
    "\n",
    "for i in range(len(wind.time)):\n",
    "  maximum = np.nanmax(wind_data[i,:])\n",
    "  if maximum>17:\n",
    "    index.append(i)\n",
    "    cyclonic_wind_speed.append(maximum)\n",
    "\n",
    "print(index)"
   ]
  },
  {
   "cell_type": "code",
   "execution_count": null,
   "id": "397755ac",
   "metadata": {},
   "outputs": [],
   "source": [
    "#time\n",
    "datetimeindex = era_data.time.data\n",
    "cyclone_date = []\n",
    "\n",
    "for i in range(len(index)):\n",
    "  cyclone_date.append(datetimeindex[index[i]])"
   ]
  },
  {
   "cell_type": "code",
   "execution_count": null,
   "id": "b289ad8b",
   "metadata": {},
   "outputs": [],
   "source": [
    "#data_table0 is used for dummy database\n",
    "#so that main database wont affect \n",
    "list0 = {'cyclonic_wind_speed': cyclonic_wind_speed, 'Date': cyclone_date}  \n",
    "data_table0 = pd.DataFrame(list0)\n",
    "data_table0.head()"
   ]
  },
  {
   "cell_type": "code",
   "execution_count": null,
   "id": "39f45fb0",
   "metadata": {},
   "outputs": [],
   "source": [
    "#Starting and Ending date from the wind\n",
    "primary_count = 0 #primary count\n",
    "start = cyclone_date[0]\n",
    "starting_date = []\n",
    "ending_date = []\n",
    " \n",
    "\n",
    "for i in range(len(cyclone_date)):\n",
    "  time_difference = (cyclone_date[i] - cyclone_date[i-1]).astype('timedelta64[h]')\n",
    "\n",
    "  if time_difference >= np.timedelta64(48, 'h'):\n",
    "    primary_count = primary_count+1 \n",
    "    starting_date.append(start)\n",
    "    ending_date.append(cyclone_date[i-1])\n",
    "    start = cyclone_date[i]\n",
    "    \n",
    "print(\"Primary cyclone count: \", primary_count)\n",
    "print(starting_date)\n",
    "print(ending_date)"
   ]
  },
  {
   "cell_type": "code",
   "execution_count": null,
   "id": "f941b57f",
   "metadata": {},
   "outputs": [],
   "source": []
  },
  {
   "cell_type": "code",
   "execution_count": null,
   "id": "3966272d",
   "metadata": {},
   "outputs": [],
   "source": []
  },
  {
   "cell_type": "code",
   "execution_count": null,
   "id": "b9c6d4d4",
   "metadata": {},
   "outputs": [],
   "source": []
  },
  {
   "cell_type": "code",
   "execution_count": null,
   "id": "cc2ae6aa",
   "metadata": {},
   "outputs": [],
   "source": []
  },
  {
   "cell_type": "code",
   "execution_count": null,
   "id": "cc489ccc",
   "metadata": {},
   "outputs": [],
   "source": []
  },
  {
   "cell_type": "code",
   "execution_count": null,
   "id": "3fbcdc13",
   "metadata": {},
   "outputs": [],
   "source": []
  },
  {
   "cell_type": "code",
   "execution_count": null,
   "id": "cad7fb5f",
   "metadata": {},
   "outputs": [],
   "source": []
  },
  {
   "cell_type": "markdown",
   "id": "2f86637c",
   "metadata": {},
   "source": [
    "# the end "
   ]
  },
  {
   "cell_type": "code",
   "execution_count": null,
   "id": "b1ac3b53",
   "metadata": {},
   "outputs": [],
   "source": [
    "era_data['latitude']"
   ]
  },
  {
   "cell_type": "code",
   "execution_count": null,
   "id": "55885476",
   "metadata": {},
   "outputs": [],
   "source": [
    "\n",
    "lat = []\n",
    "lon = []\n",
    "\n",
    "# Iterate over the ISO_TIME values in cyclone_data\n",
    "for i in range(len(cyclone_data['ISO_TIME'])):\n",
    "    time_value = cyclone_data['ISO_TIME'][i]\n",
    "\n",
    "    # Find the matching time index in era_data\n",
    "    time_index = np.where(era_data['time'] == time_value)[0][0]\n",
    "\n",
    "    # Extract lat and lon values from era_data using the time_index\n",
    "    lat_value = era_data['latitude'][time_index]\n",
    "    lon_value = era_data['longitude'][time_index]\n",
    "\n",
    "    # Append lat and lon values to the respective lists\n",
    "    lat.append(lat_value)\n",
    "    lon.append(lon_value)\n",
    "\n",
    "\n",
    "\n",
    "\n"
   ]
  },
  {
   "cell_type": "code",
   "execution_count": null,
   "id": "1ebca7d8",
   "metadata": {},
   "outputs": [],
   "source": []
  },
  {
   "cell_type": "code",
   "execution_count": null,
   "id": "f50ed545",
   "metadata": {},
   "outputs": [],
   "source": []
  },
  {
   "cell_type": "code",
   "execution_count": null,
   "id": "bb796909",
   "metadata": {},
   "outputs": [],
   "source": []
  },
  {
   "cell_type": "code",
   "execution_count": null,
   "id": "878792a4",
   "metadata": {},
   "outputs": [],
   "source": []
  },
  {
   "cell_type": "code",
   "execution_count": null,
   "id": "52e23d4d",
   "metadata": {},
   "outputs": [],
   "source": []
  },
  {
   "cell_type": "code",
   "execution_count": null,
   "id": "d3a572d7",
   "metadata": {},
   "outputs": [],
   "source": []
  },
  {
   "cell_type": "code",
   "execution_count": null,
   "id": "879d959c",
   "metadata": {},
   "outputs": [],
   "source": []
  },
  {
   "cell_type": "code",
   "execution_count": null,
   "id": "85a5d7d3",
   "metadata": {},
   "outputs": [],
   "source": [
    "# selecting variable for lat lon and time \n",
    "lon = era_data['longitude'][:]\n",
    "lat = era_data['latitude'][:] \n",
    "time = era_data['time'][:]\n",
    "\n",
    "#converting lon lat in lon2d and lat2d\n",
    "lon2d, lat2d = np.meshgrid(lon, lat)"
   ]
  },
  {
   "cell_type": "code",
   "execution_count": null,
   "id": "faabda84",
   "metadata": {
    "scrolled": false
   },
   "outputs": [],
   "source": [
    "u = era_data['u']\n",
    "v = era_data['v']\n",
    "\n",
    "wind=np.sqrt(u**2 + v**2)\n",
    "wind"
   ]
  },
  {
   "cell_type": "code",
   "execution_count": null,
   "id": "254f93cb",
   "metadata": {
    "scrolled": true
   },
   "outputs": [],
   "source": [
    "wind_level=wind.isel(level=0)\n",
    "\n",
    "wind_level"
   ]
  },
  {
   "cell_type": "code",
   "execution_count": null,
   "id": "5e163673",
   "metadata": {},
   "outputs": [],
   "source": [
    "print(wind_level.shape)"
   ]
  },
  {
   "cell_type": "code",
   "execution_count": null,
   "id": "5410cb50",
   "metadata": {},
   "outputs": [],
   "source": [
    "# nlon = len(wind_level.longitude)\n",
    "# nlat = len(wind_level.latitude)\n",
    "# nt = len(wind_level.time)"
   ]
  },
  {
   "cell_type": "code",
   "execution_count": null,
   "id": "e5fc680f",
   "metadata": {},
   "outputs": [],
   "source": [
    "\n",
    "nt, nlat, nlon = wind_level.shape\n",
    "wind_data = wind_level.data.reshape((nt, nlat * nlon))\n",
    "wind_data"
   ]
  },
  {
   "cell_type": "code",
   "execution_count": null,
   "id": "f9378896",
   "metadata": {},
   "outputs": [],
   "source": [
    "#calculating the maximum speed and the index of the cyclone \n",
    "cyclonic_wind_speed = []\n",
    "index = []\n",
    "\n",
    "for i in range(len(wind.time)):\n",
    "  maximum = np.nanmax(wind_data[i,:])\n",
    "  if maximum>17:\n",
    "    index.append(i)\n",
    "    cyclonic_wind_speed.append(maximum)\n",
    "\n",
    "print(index)"
   ]
  },
  {
   "cell_type": "code",
   "execution_count": null,
   "id": "364ca4c6",
   "metadata": {},
   "outputs": [],
   "source": []
  },
  {
   "cell_type": "code",
   "execution_count": null,
   "id": "32055877",
   "metadata": {},
   "outputs": [],
   "source": []
  },
  {
   "cell_type": "code",
   "execution_count": null,
   "id": "7c36e411",
   "metadata": {},
   "outputs": [],
   "source": []
  },
  {
   "cell_type": "code",
   "execution_count": null,
   "id": "77d32a17",
   "metadata": {},
   "outputs": [],
   "source": []
  },
  {
   "cell_type": "code",
   "execution_count": null,
   "id": "c90ad13b",
   "metadata": {},
   "outputs": [],
   "source": []
  },
  {
   "cell_type": "code",
   "execution_count": null,
   "id": "d7563e58",
   "metadata": {},
   "outputs": [],
   "source": []
  },
  {
   "cell_type": "code",
   "execution_count": null,
   "id": "28872273",
   "metadata": {},
   "outputs": [],
   "source": []
  },
  {
   "cell_type": "code",
   "execution_count": null,
   "id": "ba2bacc8",
   "metadata": {},
   "outputs": [],
   "source": []
  },
  {
   "cell_type": "code",
   "execution_count": null,
   "id": "59443d39",
   "metadata": {},
   "outputs": [],
   "source": []
  },
  {
   "cell_type": "code",
   "execution_count": null,
   "id": "62440fa7",
   "metadata": {},
   "outputs": [],
   "source": []
  },
  {
   "cell_type": "code",
   "execution_count": null,
   "id": "f61887f8",
   "metadata": {},
   "outputs": [],
   "source": []
  },
  {
   "cell_type": "code",
   "execution_count": null,
   "id": "7b76ea40",
   "metadata": {},
   "outputs": [],
   "source": []
  },
  {
   "cell_type": "code",
   "execution_count": null,
   "id": "3406a246",
   "metadata": {},
   "outputs": [],
   "source": []
  },
  {
   "cell_type": "code",
   "execution_count": null,
   "id": "8045cfac",
   "metadata": {},
   "outputs": [],
   "source": []
  },
  {
   "cell_type": "code",
   "execution_count": null,
   "id": "37128ae6",
   "metadata": {},
   "outputs": [],
   "source": []
  },
  {
   "cell_type": "code",
   "execution_count": null,
   "id": "92fa63bb",
   "metadata": {},
   "outputs": [],
   "source": []
  },
  {
   "cell_type": "code",
   "execution_count": null,
   "id": "63db8f08",
   "metadata": {},
   "outputs": [],
   "source": []
  },
  {
   "cell_type": "code",
   "execution_count": null,
   "id": "fd410689",
   "metadata": {},
   "outputs": [],
   "source": []
  },
  {
   "cell_type": "code",
   "execution_count": null,
   "id": "bdcaaa91",
   "metadata": {},
   "outputs": [],
   "source": []
  },
  {
   "cell_type": "code",
   "execution_count": null,
   "id": "9f5e17da",
   "metadata": {},
   "outputs": [],
   "source": []
  },
  {
   "cell_type": "code",
   "execution_count": null,
   "id": "981da943",
   "metadata": {},
   "outputs": [],
   "source": []
  },
  {
   "cell_type": "code",
   "execution_count": null,
   "id": "b33ea14e",
   "metadata": {},
   "outputs": [],
   "source": []
  },
  {
   "cell_type": "code",
   "execution_count": null,
   "id": "b4e710bc",
   "metadata": {},
   "outputs": [],
   "source": []
  },
  {
   "cell_type": "code",
   "execution_count": null,
   "id": "952fb5e2",
   "metadata": {},
   "outputs": [],
   "source": []
  },
  {
   "cell_type": "code",
   "execution_count": null,
   "id": "553c3178",
   "metadata": {},
   "outputs": [],
   "source": []
  },
  {
   "cell_type": "markdown",
   "id": "675c6e71",
   "metadata": {},
   "source": [
    "# Adding Eye data"
   ]
  },
  {
   "cell_type": "code",
   "execution_count": null,
   "id": "35649eb0",
   "metadata": {},
   "outputs": [],
   "source": []
  },
  {
   "cell_type": "code",
   "execution_count": null,
   "id": "b12a16c0",
   "metadata": {},
   "outputs": [],
   "source": []
  },
  {
   "cell_type": "code",
   "execution_count": null,
   "id": "aa90afa8",
   "metadata": {
    "scrolled": false
   },
   "outputs": [],
   "source": [
    "# # Eye data of Relative Humidity, Specific Humidity, Temperature*\n",
    "# r_eye = []\n",
    "# q_eye = []\n",
    "\n",
    "\n",
    "# for i in range(len(cyclone_data['LAT'])):\n",
    "#     lat_of_interest = cyclone_data['LAT'][i]\n",
    "#     lon_of_interest = cyclone_data['LON'][i]\n",
    "#     time_index = np.where(data.time==cyclone_data['ISO_TIME'][i])[0][0]\n",
    "    \n",
    "#     # select the indices of the nearest latitude and longitude values in the 'data' dataset\n",
    "#     lat_idx = np.argmin(np.abs(data['latitude'].values - lat_of_interest))\n",
    "#     lon_idx = np.argmin(np.abs(data['longitude'].values - lon_of_interest))\n",
    "\n",
    "#     # extract the vvalues at the selected latitude and longitude position and 850 hPa\n",
    "#     r_value = data['r'][time_index, 2, lat_idx, lon_idx].values\n",
    "#     q_value = data['q'][time_index, 2, lat_idx, lon_idx].values\n",
    "\n",
    "    \n",
    "#     r_eye.append((float(r_value)))\n",
    "#     q_eye.append((float(q_value)))\n",
    "\n",
    "\n",
    "# #adding data into the dataframe\n",
    "# cyclone_data['r_eye'] = r_eye\n",
    "# cyclone_data['q_eye'] = q_eye\n",
    "\n",
    "\n",
    "# #print\n",
    "# cyclone_data"
   ]
  },
  {
   "cell_type": "code",
   "execution_count": null,
   "id": "94ef57fc",
   "metadata": {},
   "outputs": [],
   "source": [
    "# # Eye data of Relative Humidity, Specific Humidity\n",
    "# r_eye = []\n",
    "# q_eye = []\n",
    "\n",
    "# # Iterate over the 'ISO_TIME' values in cyclone_data\n",
    "# for iso_time in cyclone_data['ISO_TIME']:\n",
    "#     time_index = np.where(data.time == iso_time)[0][0]\n",
    "    \n",
    "#     # Extract the values for 'r' and 'q' at the specific 'ISO_TIME'\n",
    "#     r_value = data['r'][time_index, 2].values\n",
    "#     q_value = data['q'][time_index, 2].values\n",
    "\n",
    "#     r_eye.append(r_value)\n",
    "#     q_eye.append(q_value)\n",
    "\n",
    "# # Add data to the dataframe\n",
    "# cyclone_data['r_eye'] = r_eye\n",
    "# cyclone_data['q_eye'] = q_eye\n",
    "\n",
    "# # Print the updated dataframe\n",
    "# cyclone_data"
   ]
  },
  {
   "cell_type": "markdown",
   "id": "37832fe1",
   "metadata": {},
   "source": [
    "# Adding u and v at the eye"
   ]
  },
  {
   "cell_type": "code",
   "execution_count": null,
   "id": "47188a81",
   "metadata": {},
   "outputs": [],
   "source": [
    "# # Eye data of u and v \n",
    "\n",
    "# u_eye_150 = []\n",
    "# u_eye_500 = []\n",
    "# u_eye_850 = []\n",
    "\n",
    "# v_eye_150 = []\n",
    "# v_eye_500 = []\n",
    "# v_eye_850 = []\n",
    "\n",
    "# for l in range(3):\n",
    "#     for i in range(len(cyclone_data['LAT'])):\n",
    "#         lat_of_interest = cyclone_data['LAT'][i]\n",
    "#         lon_of_interest = cyclone_data['LON'][i]\n",
    "#         time_index = np.where(data.time==cyclone_data['ISO_TIME'][i])[0][0]\n",
    "\n",
    "#         # select the indices of the nearest latitude and longitude values in the 'data' dataset\n",
    "#         lat_idx = np.argmin(np.abs(data['latitude'].values - lat_of_interest))\n",
    "#         lon_idx = np.argmin(np.abs(data['longitude'].values - lon_of_interest))\n",
    "\n",
    "#         # extract the vvalues at the selected latitude and longitude position and 850 hPa\n",
    "#         u_value = data['u'][time_index, l, lat_idx, lon_idx].values\n",
    "#         v_value = data['v'][time_index, l, lat_idx, lon_idx].values\n",
    "        \n",
    "#         if l == 0: #150 hpa\n",
    "#             u_eye_150.append((float(u_value)))\n",
    "#             v_eye_150.append((float(v_value)))\n",
    "            \n",
    "#         if l == 1: #500 hpa\n",
    "#             u_eye_500.append((float(u_value)))\n",
    "#             v_eye_500.append((float(v_value)))\n",
    "            \n",
    "#         if l == 2: #500 hpa\n",
    "#             u_eye_850.append((float(u_value)))\n",
    "#             v_eye_850.append((float(v_value)))\n",
    "\n",
    "            \n",
    "# #adding data into the dataframe\n",
    "# cyclone_data['u_eye_150'] = u_eye_150\n",
    "# cyclone_data['u_eye_500'] = u_eye_500\n",
    "# cyclone_data['u_eye_850'] = u_eye_850\n",
    "\n",
    "# cyclone_data['v_eye_150'] = v_eye_150\n",
    "# cyclone_data['v_eye_500'] = v_eye_500\n",
    "# cyclone_data['v_eye_850'] = v_eye_850\n",
    "\n",
    "\n",
    "# print\n",
    "# cyclone_data"
   ]
  },
  {
   "cell_type": "code",
   "execution_count": null,
   "id": "10cabfb4",
   "metadata": {},
   "outputs": [],
   "source": [
    "# path=\n",
    "# sst_data=xr.open_mfdataset(path)\n",
    "# sst_data=sst_data.sel(time=slice(str(start),str(end)))\n",
    "# sst_data"
   ]
  },
  {
   "cell_type": "markdown",
   "id": "9f5ef065",
   "metadata": {},
   "source": [
    "ss"
   ]
  },
  {
   "cell_type": "code",
   "execution_count": null,
   "id": "4fd78b98",
   "metadata": {},
   "outputs": [],
   "source": []
  }
 ],
 "metadata": {
  "kernelspec": {
   "display_name": "Python 3 (ipykernel)",
   "language": "python",
   "name": "python3"
  },
  "language_info": {
   "codemirror_mode": {
    "name": "ipython",
    "version": 3
   },
   "file_extension": ".py",
   "mimetype": "text/x-python",
   "name": "python",
   "nbconvert_exporter": "python",
   "pygments_lexer": "ipython3",
   "version": "3.10.11"
  }
 },
 "nbformat": 4,
 "nbformat_minor": 5
}
