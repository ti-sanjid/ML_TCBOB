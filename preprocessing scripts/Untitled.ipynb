{
 "cells": [
  {
   "cell_type": "code",
   "execution_count": null,
   "id": "eba3d458",
   "metadata": {},
   "outputs": [],
   "source": [
    "plt.savefig(\"/mnt/1A42C1DD42C1BE2F/MyProjects/ML_TCBOB/Data/Preprocessed data/figures for Dataset Report-2 [September 8, 2023] Task-2/Cyclone NO:44_2016-05.png\")\n",
    "plt.savefig(\"/mnt/1A42C1DD42C1BE2F/MyProjects/ML_TCBOB/Data/Preprocessed data/figures for Dataset Report-2 [September 8, 2023] Task-2/Cyclone NO:45_2016-12.png\")\n",
    "plt.savefig(\"/mnt/1A42C1DD42C1BE2F/MyProjects/ML_TCBOB/Data/Preprocessed data/figures for Dataset Report-2 [September 8, 2023] Task-2/Cyclone NO:46_2019-04.png\")\n",
    "plt.savefig(\"/mnt/1A42C1DD42C1BE2F/MyProjects/ML_TCBOB/Data/Preprocessed data/figures for Dataset Report-2 [September 8, 2023] Task-2/Cyclone NO:47_2019-08.png\")\n",
    "plt.savefig(\"/mnt/1A42C1DD42C1BE2F/MyProjects/ML_TCBOB/Data/Preprocessed data/figures for Dataset Report-2 [September 8, 2023] Task-2/Cyclone NO:48_2019-11.png\")\n",
    "plt.savefig(\"/mnt/1A42C1DD42C1BE2F/MyProjects/ML_TCBOB/Data/Preprocessed data/figures for Dataset Report-2 [September 8, 2023] Task-2/Cyclone NO:49_2020-05.png\")"
   ]
  }
 ],
 "metadata": {
  "kernelspec": {
   "display_name": "Python 3 (ipykernel)",
   "language": "python",
   "name": "python3"
  },
  "language_info": {
   "codemirror_mode": {
    "name": "ipython",
    "version": 3
   },
   "file_extension": ".py",
   "mimetype": "text/x-python",
   "name": "python",
   "nbconvert_exporter": "python",
   "pygments_lexer": "ipython3",
   "version": "3.11.4"
  }
 },
 "nbformat": 4,
 "nbformat_minor": 5
}
